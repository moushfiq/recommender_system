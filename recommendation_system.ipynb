{
  "nbformat": 4,
  "nbformat_minor": 0,
  "metadata": {
    "colab": {
      "name": "recommendation_system.ipynb",
      "provenance": [],
      "toc_visible": true,
      "authorship_tag": "ABX9TyPcVwcwi5+PSYE7S5Pq2V0f",
      "include_colab_link": true
    },
    "kernelspec": {
      "name": "python3",
      "display_name": "Python 3"
    },
    "accelerator": "GPU"
  },
  "cells": [
    {
      "cell_type": "markdown",
      "metadata": {
        "id": "view-in-github",
        "colab_type": "text"
      },
      "source": [
        "<a href=\"https://colab.research.google.com/github/moushfiq/recommender_system/blob/master/recommendation_system.ipynb\" target=\"_parent\"><img src=\"https://colab.research.google.com/assets/colab-badge.svg\" alt=\"Open In Colab\"/></a>"
      ]
    },
    {
      "cell_type": "code",
      "metadata": {
        "id": "qGY0wPmYbuO5",
        "colab_type": "code",
        "outputId": "d7349491-14f8-436b-ed50-6dc338086ce4",
        "colab": {
          "base_uri": "https://localhost:8080/",
          "height": 122
        }
      },
      "source": [
        "from google.colab import drive\n",
        "drive.mount('/content/drive')"
      ],
      "execution_count": 1,
      "outputs": [
        {
          "output_type": "stream",
          "text": [
            "Go to this URL in a browser: https://accounts.google.com/o/oauth2/auth?client_id=947318989803-6bn6qk8qdgf4n4g3pfee6491hc0brc4i.apps.googleusercontent.com&redirect_uri=urn%3aietf%3awg%3aoauth%3a2.0%3aoob&response_type=code&scope=email%20https%3a%2f%2fwww.googleapis.com%2fauth%2fdocs.test%20https%3a%2f%2fwww.googleapis.com%2fauth%2fdrive%20https%3a%2f%2fwww.googleapis.com%2fauth%2fdrive.photos.readonly%20https%3a%2f%2fwww.googleapis.com%2fauth%2fpeopleapi.readonly\n",
            "\n",
            "Enter your authorization code:\n",
            "··········\n",
            "Mounted at /content/drive\n"
          ],
          "name": "stdout"
        }
      ]
    },
    {
      "cell_type": "code",
      "metadata": {
        "id": "JNuBV8fBgFOq",
        "colab_type": "code",
        "colab": {}
      },
      "source": [
        "from pathlib import Path\n",
        "import pandas as pd\n",
        "import numpy as np\n",
        "import matplotlib.pyplot as plt"
      ],
      "execution_count": 0,
      "outputs": []
    },
    {
      "cell_type": "code",
      "metadata": {
        "id": "CUK_CWiGcm90",
        "colab_type": "code",
        "outputId": "db749525-c382-44a2-c480-0d7e0704a038",
        "colab": {
          "base_uri": "https://localhost:8080/",
          "height": 102
        }
      },
      "source": [
        "PATH = Path(\"/content/drive/My Drive/ml-latest-small\")\n",
        "list(PATH.iterdir())"
      ],
      "execution_count": 3,
      "outputs": [
        {
          "output_type": "execute_result",
          "data": {
            "text/plain": [
              "[PosixPath('/content/drive/My Drive/ml-latest-small/links.csv'),\n",
              " PosixPath('/content/drive/My Drive/ml-latest-small/README.txt'),\n",
              " PosixPath('/content/drive/My Drive/ml-latest-small/movies.csv'),\n",
              " PosixPath('/content/drive/My Drive/ml-latest-small/tags.csv'),\n",
              " PosixPath('/content/drive/My Drive/ml-latest-small/ratings.csv')]"
            ]
          },
          "metadata": {
            "tags": []
          },
          "execution_count": 3
        }
      ]
    },
    {
      "cell_type": "code",
      "metadata": {
        "id": "aOZgB7sE0dlb",
        "colab_type": "code",
        "colab": {}
      },
      "source": [
        "data = pd.read_csv(PATH/\"ratings.csv\")"
      ],
      "execution_count": 0,
      "outputs": []
    },
    {
      "cell_type": "code",
      "metadata": {
        "id": "6C88pN1W02_g",
        "colab_type": "code",
        "outputId": "01ea7aae-a6f8-4e82-e5c6-4565fc724322",
        "colab": {
          "base_uri": "https://localhost:8080/",
          "height": 204
        }
      },
      "source": [
        "data.head()"
      ],
      "execution_count": 5,
      "outputs": [
        {
          "output_type": "execute_result",
          "data": {
            "text/html": [
              "<div>\n",
              "<style scoped>\n",
              "    .dataframe tbody tr th:only-of-type {\n",
              "        vertical-align: middle;\n",
              "    }\n",
              "\n",
              "    .dataframe tbody tr th {\n",
              "        vertical-align: top;\n",
              "    }\n",
              "\n",
              "    .dataframe thead th {\n",
              "        text-align: right;\n",
              "    }\n",
              "</style>\n",
              "<table border=\"1\" class=\"dataframe\">\n",
              "  <thead>\n",
              "    <tr style=\"text-align: right;\">\n",
              "      <th></th>\n",
              "      <th>userId</th>\n",
              "      <th>movieId</th>\n",
              "      <th>rating</th>\n",
              "      <th>timestamp</th>\n",
              "    </tr>\n",
              "  </thead>\n",
              "  <tbody>\n",
              "    <tr>\n",
              "      <th>0</th>\n",
              "      <td>1</td>\n",
              "      <td>1</td>\n",
              "      <td>4.0</td>\n",
              "      <td>964982703</td>\n",
              "    </tr>\n",
              "    <tr>\n",
              "      <th>1</th>\n",
              "      <td>1</td>\n",
              "      <td>3</td>\n",
              "      <td>4.0</td>\n",
              "      <td>964981247</td>\n",
              "    </tr>\n",
              "    <tr>\n",
              "      <th>2</th>\n",
              "      <td>1</td>\n",
              "      <td>6</td>\n",
              "      <td>4.0</td>\n",
              "      <td>964982224</td>\n",
              "    </tr>\n",
              "    <tr>\n",
              "      <th>3</th>\n",
              "      <td>1</td>\n",
              "      <td>47</td>\n",
              "      <td>5.0</td>\n",
              "      <td>964983815</td>\n",
              "    </tr>\n",
              "    <tr>\n",
              "      <th>4</th>\n",
              "      <td>1</td>\n",
              "      <td>50</td>\n",
              "      <td>5.0</td>\n",
              "      <td>964982931</td>\n",
              "    </tr>\n",
              "  </tbody>\n",
              "</table>\n",
              "</div>"
            ],
            "text/plain": [
              "   userId  movieId  rating  timestamp\n",
              "0       1        1     4.0  964982703\n",
              "1       1        3     4.0  964981247\n",
              "2       1        6     4.0  964982224\n",
              "3       1       47     5.0  964983815\n",
              "4       1       50     5.0  964982931"
            ]
          },
          "metadata": {
            "tags": []
          },
          "execution_count": 5
        }
      ]
    },
    {
      "cell_type": "code",
      "metadata": {
        "id": "kIS_Z2y61GiQ",
        "colab_type": "code",
        "colab": {}
      },
      "source": [
        "# split train and validation\n",
        "np.random.seed(3)\n",
        "msk = np.random.rand(len(data)) < 0.8\n",
        "train = data[msk].copy()\n",
        "val = data[~msk].copy()"
      ],
      "execution_count": 0,
      "outputs": []
    },
    {
      "cell_type": "code",
      "metadata": {
        "id": "BUndtPVa1SxI",
        "colab_type": "code",
        "colab": {}
      },
      "source": [
        "def proc_col(col, train_col=None):\n",
        "    \"\"\"Encodes a pandas column with continous ids. \n",
        "    \"\"\"\n",
        "    if train_col is not None:\n",
        "        uniq = train_col.unique()\n",
        "    else:\n",
        "        uniq = col.unique()\n",
        "    name2idx = {o:i for i,o in enumerate(uniq)}\n",
        "    return name2idx, np.array([name2idx.get(x, -1) for x in col]), len(uniq)"
      ],
      "execution_count": 0,
      "outputs": []
    },
    {
      "cell_type": "code",
      "metadata": {
        "id": "srG6ffqB1UtR",
        "colab_type": "code",
        "colab": {}
      },
      "source": [
        "def encode_data(df, train=None):\n",
        "    \"\"\" Encodes rating data with continous user and movie ids. \n",
        "    If train is provided, encodes df with the same encoding as train.\n",
        "    \"\"\"\n",
        "    df = df.copy()\n",
        "    for col_name in [\"userId\", \"movieId\"]:\n",
        "        train_col = None\n",
        "        if train is not None:\n",
        "            train_col = train[col_name]\n",
        "        _,col,_ = proc_col(df[col_name], train_col)\n",
        "        df[col_name] = col\n",
        "        df = df[df[col_name] >= 0]\n",
        "    return df"
      ],
      "execution_count": 0,
      "outputs": []
    },
    {
      "cell_type": "code",
      "metadata": {
        "id": "HoTUGmRR4Xsp",
        "colab_type": "code",
        "outputId": "bfc7c7b2-0079-403c-bd3d-8978ad2d4904",
        "colab": {
          "base_uri": "https://localhost:8080/",
          "height": 493
        }
      },
      "source": [
        "# to check my new implementation\n",
        "LOCAL_PATH = Path(\"/content/drive/My Drive/train-data\")\n",
        "df_t = pd.read_csv(LOCAL_PATH/\"tiny_training2.csv\")\n",
        "df_v = pd.read_csv(LOCAL_PATH/\"tiny_val2.csv\")\n",
        "print(df_t)\n",
        "df_t_e = encode_data(df_t)\n",
        "df_v_e = encode_data(df_v, df_t)\n",
        "df_v_e\n",
        "print(df_t_e)"
      ],
      "execution_count": 9,
      "outputs": [
        {
          "output_type": "stream",
          "text": [
            "    userId  movieId  rating\n",
            "0       11        1       4\n",
            "1       11       23       5\n",
            "2        2       23       5\n",
            "3        2        4       3\n",
            "4       31        1       4\n",
            "5       31       23       4\n",
            "6        4        1       5\n",
            "7        4        3       2\n",
            "8       52        1       1\n",
            "9       52        3       4\n",
            "10      61        3       5\n",
            "11       7       23       1\n",
            "12       7        3       3\n",
            "    userId  movieId  rating\n",
            "0        0        0       4\n",
            "1        0        1       5\n",
            "2        1        1       5\n",
            "3        1        2       3\n",
            "4        2        0       4\n",
            "5        2        1       4\n",
            "6        3        0       5\n",
            "7        3        3       2\n",
            "8        4        0       1\n",
            "9        4        3       4\n",
            "10       5        3       5\n",
            "11       6        1       1\n",
            "12       6        3       3\n"
          ],
          "name": "stdout"
        }
      ]
    },
    {
      "cell_type": "code",
      "metadata": {
        "id": "oFYlnbo81aIi",
        "colab_type": "code",
        "colab": {}
      },
      "source": [
        "# encoding the train and validation data\n",
        "df_train = encode_data(train)\n",
        "df_val = encode_data(val, train)"
      ],
      "execution_count": 0,
      "outputs": []
    },
    {
      "cell_type": "markdown",
      "metadata": {
        "id": "LW63Qs8r2Exi",
        "colab_type": "text"
      },
      "source": [
        "**Import Torch and Embed layer**"
      ]
    },
    {
      "cell_type": "code",
      "metadata": {
        "id": "t6TIQNYJ2S9Y",
        "colab_type": "code",
        "colab": {}
      },
      "source": [
        "import torch\n",
        "import torch.nn as nn\n",
        "import torch.nn.functional as F"
      ],
      "execution_count": 0,
      "outputs": []
    },
    {
      "cell_type": "code",
      "metadata": {
        "id": "fks8V1B92YOZ",
        "colab_type": "code",
        "colab": {}
      },
      "source": [
        "# an Embedding module containing 10 user or item embedding size 3\n",
        "# embedding will be initialized at random\n",
        "embed = nn.Embedding(10, 3)"
      ],
      "execution_count": 0,
      "outputs": []
    },
    {
      "cell_type": "code",
      "metadata": {
        "id": "tKMf62xb2qNR",
        "colab_type": "code",
        "outputId": "860f7775-0076-4e2d-b1b6-a31f368d2f20",
        "colab": {
          "base_uri": "https://localhost:8080/",
          "height": 119
        }
      },
      "source": [
        "# given a list of ids we can \"look up\" the embedding corresponing to each id\n",
        "a = torch.LongTensor([[1,2,0,4,5,1]])\n",
        "embed(a)"
      ],
      "execution_count": 13,
      "outputs": [
        {
          "output_type": "execute_result",
          "data": {
            "text/plain": [
              "tensor([[[-0.7145, -0.2365, -0.3669],\n",
              "         [ 0.2975, -0.8711, -2.1919],\n",
              "         [ 0.2703,  0.2981,  1.2537],\n",
              "         [-0.7475,  0.7028,  0.1622],\n",
              "         [ 0.5188,  1.1374,  0.2205],\n",
              "         [-0.7145, -0.2365, -0.3669]]], grad_fn=<EmbeddingBackward>)"
            ]
          },
          "metadata": {
            "tags": []
          },
          "execution_count": 13
        }
      ]
    },
    {
      "cell_type": "markdown",
      "metadata": {
        "id": "-YAbmM5r2voC",
        "colab_type": "text"
      },
      "source": [
        "**Matrix Factorization Model**\n"
      ]
    },
    {
      "cell_type": "code",
      "metadata": {
        "id": "xyWlicQm3DJR",
        "colab_type": "code",
        "colab": {}
      },
      "source": [
        "class MF(nn.Module):\n",
        "    def __init__(self, num_users, num_items, emb_size=100):\n",
        "        super(MF, self).__init__()\n",
        "        self.user_emb = nn.Embedding(num_users, emb_size)\n",
        "        self.item_emb = nn.Embedding(num_items, emb_size)\n",
        "        self.user_emb.weight.data.uniform_(0, 0.05)\n",
        "        self.item_emb.weight.data.uniform_(0, 0.05)\n",
        "        \n",
        "    def forward(self, u, v):\n",
        "        u = self.user_emb(u)\n",
        "        v = self.item_emb(v)\n",
        "        return (u*v).sum(1)"
      ],
      "execution_count": 0,
      "outputs": []
    },
    {
      "cell_type": "markdown",
      "metadata": {
        "id": "MPX1Fa6X3Nxp",
        "colab_type": "text"
      },
      "source": [
        "Test MF model"
      ]
    },
    {
      "cell_type": "code",
      "metadata": {
        "id": "Os84MCiT3P84",
        "colab_type": "code",
        "outputId": "95e68d63-09d1-49f7-8c76-93de60ea8d9c",
        "colab": {
          "base_uri": "https://localhost:8080/",
          "height": 452
        }
      },
      "source": [
        "df_t_e"
      ],
      "execution_count": 16,
      "outputs": [
        {
          "output_type": "execute_result",
          "data": {
            "text/html": [
              "<div>\n",
              "<style scoped>\n",
              "    .dataframe tbody tr th:only-of-type {\n",
              "        vertical-align: middle;\n",
              "    }\n",
              "\n",
              "    .dataframe tbody tr th {\n",
              "        vertical-align: top;\n",
              "    }\n",
              "\n",
              "    .dataframe thead th {\n",
              "        text-align: right;\n",
              "    }\n",
              "</style>\n",
              "<table border=\"1\" class=\"dataframe\">\n",
              "  <thead>\n",
              "    <tr style=\"text-align: right;\">\n",
              "      <th></th>\n",
              "      <th>userId</th>\n",
              "      <th>movieId</th>\n",
              "      <th>rating</th>\n",
              "    </tr>\n",
              "  </thead>\n",
              "  <tbody>\n",
              "    <tr>\n",
              "      <th>0</th>\n",
              "      <td>0</td>\n",
              "      <td>0</td>\n",
              "      <td>4</td>\n",
              "    </tr>\n",
              "    <tr>\n",
              "      <th>1</th>\n",
              "      <td>0</td>\n",
              "      <td>1</td>\n",
              "      <td>5</td>\n",
              "    </tr>\n",
              "    <tr>\n",
              "      <th>2</th>\n",
              "      <td>1</td>\n",
              "      <td>1</td>\n",
              "      <td>5</td>\n",
              "    </tr>\n",
              "    <tr>\n",
              "      <th>3</th>\n",
              "      <td>1</td>\n",
              "      <td>2</td>\n",
              "      <td>3</td>\n",
              "    </tr>\n",
              "    <tr>\n",
              "      <th>4</th>\n",
              "      <td>2</td>\n",
              "      <td>0</td>\n",
              "      <td>4</td>\n",
              "    </tr>\n",
              "    <tr>\n",
              "      <th>5</th>\n",
              "      <td>2</td>\n",
              "      <td>1</td>\n",
              "      <td>4</td>\n",
              "    </tr>\n",
              "    <tr>\n",
              "      <th>6</th>\n",
              "      <td>3</td>\n",
              "      <td>0</td>\n",
              "      <td>5</td>\n",
              "    </tr>\n",
              "    <tr>\n",
              "      <th>7</th>\n",
              "      <td>3</td>\n",
              "      <td>3</td>\n",
              "      <td>2</td>\n",
              "    </tr>\n",
              "    <tr>\n",
              "      <th>8</th>\n",
              "      <td>4</td>\n",
              "      <td>0</td>\n",
              "      <td>1</td>\n",
              "    </tr>\n",
              "    <tr>\n",
              "      <th>9</th>\n",
              "      <td>4</td>\n",
              "      <td>3</td>\n",
              "      <td>4</td>\n",
              "    </tr>\n",
              "    <tr>\n",
              "      <th>10</th>\n",
              "      <td>5</td>\n",
              "      <td>3</td>\n",
              "      <td>5</td>\n",
              "    </tr>\n",
              "    <tr>\n",
              "      <th>11</th>\n",
              "      <td>6</td>\n",
              "      <td>1</td>\n",
              "      <td>1</td>\n",
              "    </tr>\n",
              "    <tr>\n",
              "      <th>12</th>\n",
              "      <td>6</td>\n",
              "      <td>3</td>\n",
              "      <td>3</td>\n",
              "    </tr>\n",
              "  </tbody>\n",
              "</table>\n",
              "</div>"
            ],
            "text/plain": [
              "    userId  movieId  rating\n",
              "0        0        0       4\n",
              "1        0        1       5\n",
              "2        1        1       5\n",
              "3        1        2       3\n",
              "4        2        0       4\n",
              "5        2        1       4\n",
              "6        3        0       5\n",
              "7        3        3       2\n",
              "8        4        0       1\n",
              "9        4        3       4\n",
              "10       5        3       5\n",
              "11       6        1       1\n",
              "12       6        3       3"
            ]
          },
          "metadata": {
            "tags": []
          },
          "execution_count": 16
        }
      ]
    },
    {
      "cell_type": "code",
      "metadata": {
        "id": "Wp8FX2Ur5BYc",
        "colab_type": "code",
        "colab": {}
      },
      "source": [
        "num_users = 7\n",
        "num_items = 4\n",
        "emb_size = 3\n",
        "\n",
        "user_emb = nn.Embedding(num_users, emb_size)\n",
        "item_emb = nn.Embedding(num_items, emb_size)\n",
        "users = torch.LongTensor(df_t_e.userId.values)\n",
        "items = torch.LongTensor(df_t_e.movieId.values)"
      ],
      "execution_count": 0,
      "outputs": []
    },
    {
      "cell_type": "code",
      "metadata": {
        "id": "0SD5dvOt5GFa",
        "colab_type": "code",
        "colab": {}
      },
      "source": [
        "U = user_emb(users)\n",
        "V = item_emb(items)"
      ],
      "execution_count": 0,
      "outputs": []
    },
    {
      "cell_type": "code",
      "metadata": {
        "id": "3YVJhuUb5JvD",
        "colab_type": "code",
        "outputId": "4a6aa328-79e9-4edc-d53f-3a6cc2ec695d",
        "colab": {
          "base_uri": "https://localhost:8080/",
          "height": 238
        }
      },
      "source": [
        "U"
      ],
      "execution_count": 19,
      "outputs": [
        {
          "output_type": "execute_result",
          "data": {
            "text/plain": [
              "tensor([[-1.0718,  1.0890,  1.4075],\n",
              "        [-1.0718,  1.0890,  1.4075],\n",
              "        [ 0.8176,  0.9071,  0.9066],\n",
              "        [ 0.8176,  0.9071,  0.9066],\n",
              "        [-0.0457, -1.3057,  1.3616],\n",
              "        [-0.0457, -1.3057,  1.3616],\n",
              "        [ 1.3335, -0.4709,  0.1041],\n",
              "        [ 1.3335, -0.4709,  0.1041],\n",
              "        [-0.4479, -1.2355,  0.0057],\n",
              "        [-0.4479, -1.2355,  0.0057],\n",
              "        [-0.3311,  0.3739,  0.6540],\n",
              "        [-1.2015, -0.0192,  1.0274],\n",
              "        [-1.2015, -0.0192,  1.0274]], grad_fn=<EmbeddingBackward>)"
            ]
          },
          "metadata": {
            "tags": []
          },
          "execution_count": 19
        }
      ]
    },
    {
      "cell_type": "code",
      "metadata": {
        "id": "Z49ZG2OK5MJa",
        "colab_type": "code",
        "outputId": "03f23522-f8f6-4da6-c771-2e6b5089f25e",
        "colab": {
          "base_uri": "https://localhost:8080/",
          "height": 238
        }
      },
      "source": [
        "# element wise multiplication\n",
        "U*V"
      ],
      "execution_count": 20,
      "outputs": [
        {
          "output_type": "execute_result",
          "data": {
            "text/plain": [
              "tensor([[-0.2199, -1.5846, -3.0574],\n",
              "        [-0.5897, -0.5155,  1.8885],\n",
              "        [ 0.4498, -0.4294,  1.2164],\n",
              "        [-0.3797,  0.1497,  0.5067],\n",
              "        [-0.0094,  1.9001, -2.9578],\n",
              "        [-0.0251,  0.6181,  1.8270],\n",
              "        [ 0.2736,  0.6852, -0.2261],\n",
              "        [ 1.1015,  0.8178, -0.0710],\n",
              "        [-0.0919,  1.7979, -0.0123],\n",
              "        [-0.3700,  2.1456, -0.0039],\n",
              "        [-0.2735, -0.6493, -0.4461],\n",
              "        [-0.6611,  0.0091,  1.3786],\n",
              "        [-0.9924,  0.0333, -0.7009]], grad_fn=<MulBackward0>)"
            ]
          },
          "metadata": {
            "tags": []
          },
          "execution_count": 20
        }
      ]
    },
    {
      "cell_type": "code",
      "metadata": {
        "id": "7BUHRu2_5VJ8",
        "colab_type": "code",
        "outputId": "b10d0343-dedf-4d89-c921-af3b899d6720",
        "colab": {
          "base_uri": "https://localhost:8080/",
          "height": 51
        }
      },
      "source": [
        "# dot product per row\n",
        "(U*V).sum(1)"
      ],
      "execution_count": 21,
      "outputs": [
        {
          "output_type": "execute_result",
          "data": {
            "text/plain": [
              "tensor([-4.8620,  0.7833,  1.2368,  0.2767, -1.0671,  2.4200,  0.7328,  1.8482,\n",
              "         1.6936,  1.7718, -1.3689,  0.7266, -1.6599], grad_fn=<SumBackward1>)"
            ]
          },
          "metadata": {
            "tags": []
          },
          "execution_count": 21
        }
      ]
    },
    {
      "cell_type": "markdown",
      "metadata": {
        "id": "ucFe-n-W5d8C",
        "colab_type": "text"
      },
      "source": [
        "Training Matrix Factorization"
      ]
    },
    {
      "cell_type": "code",
      "metadata": {
        "id": "YWWo6EB65bZK",
        "colab_type": "code",
        "outputId": "384b838e-a9de-4637-9798-fb0cc5dc163d",
        "colab": {
          "base_uri": "https://localhost:8080/",
          "height": 34
        }
      },
      "source": [
        "num_users = len(df_train.userId.unique())\n",
        "num_items = len(df_train.movieId.unique())\n",
        "print(num_users, num_items)"
      ],
      "execution_count": 22,
      "outputs": [
        {
          "output_type": "stream",
          "text": [
            "610 8998\n"
          ],
          "name": "stdout"
        }
      ]
    },
    {
      "cell_type": "code",
      "metadata": {
        "id": "LHGVwlc55x2s",
        "colab_type": "code",
        "colab": {}
      },
      "source": [
        "model = MF(num_users, num_items, emb_size=100).cuda() "
      ],
      "execution_count": 0,
      "outputs": []
    },
    {
      "cell_type": "code",
      "metadata": {
        "id": "2PDAN_Xe52hL",
        "colab_type": "code",
        "colab": {}
      },
      "source": [
        "def train_epocs(model, epochs=10, lr=0.01, wd=0.0, unsqueeze=False):\n",
        "    optimizer = torch.optim.Adam(model.parameters(), lr=lr, weight_decay=wd)\n",
        "    model.train()\n",
        "    for i in range(epochs):\n",
        "        users = torch.LongTensor(df_train.userId.values).cuda()\n",
        "        items = torch.LongTensor(df_train.movieId.values).cuda()\n",
        "        ratings = torch.FloatTensor(df_train.rating.values).cuda()\n",
        "        if unsqueeze:\n",
        "            ratings = ratings.unsqueeze(1)\n",
        "        y_hat = model(users, items)\n",
        "        loss = F.mse_loss(y_hat, ratings)\n",
        "        optimizer.zero_grad()\n",
        "        loss.backward()\n",
        "        optimizer.step()\n",
        "        print(loss.item()) \n",
        "    test_loss(model, unsqueeze)"
      ],
      "execution_count": 0,
      "outputs": []
    },
    {
      "cell_type": "code",
      "metadata": {
        "id": "s6KLim3p6GGv",
        "colab_type": "code",
        "outputId": "90915eea-2b46-41eb-8981-4ae3cc0c5efa",
        "colab": {
          "base_uri": "https://localhost:8080/",
          "height": 51
        }
      },
      "source": [
        "# Here is what unsqueeze does\n",
        "ratings = torch.FloatTensor(df_train.rating.values)\n",
        "print(ratings.shape)\n",
        "ratings = ratings.unsqueeze(1).cuda()\n",
        "print(ratings.shape)"
      ],
      "execution_count": 25,
      "outputs": [
        {
          "output_type": "stream",
          "text": [
            "torch.Size([80450])\n",
            "torch.Size([80450, 1])\n"
          ],
          "name": "stdout"
        }
      ]
    },
    {
      "cell_type": "code",
      "metadata": {
        "id": "8es5dgvV6Kla",
        "colab_type": "code",
        "colab": {}
      },
      "source": [
        "def test_loss(model, unsqueeze=False):\n",
        "    model.eval()\n",
        "    users = torch.LongTensor(df_val.userId.values).cuda()\n",
        "    items = torch.LongTensor(df_val.movieId.values).cuda()\n",
        "    ratings = torch.FloatTensor(df_val.rating.values).cuda()\n",
        "    if unsqueeze:\n",
        "        ratings = ratings.unsqueeze(1)\n",
        "    y_hat = model(users, items)\n",
        "    loss = F.mse_loss(y_hat, ratings)\n",
        "    print(\"test loss %.3f \" % loss.item())"
      ],
      "execution_count": 0,
      "outputs": []
    },
    {
      "cell_type": "code",
      "metadata": {
        "id": "n5K5W0yB6T7l",
        "colab_type": "code",
        "outputId": "dbb4aeb3-9d66-4690-815d-75189159e5ee",
        "colab": {
          "base_uri": "https://localhost:8080/",
          "height": 204
        }
      },
      "source": [
        "train_epocs(model, epochs=10, lr=0.1)"
      ],
      "execution_count": 27,
      "outputs": [
        {
          "output_type": "stream",
          "text": [
            "12.911471366882324\n",
            "4.850771903991699\n",
            "2.59645938873291\n",
            "3.0972681045532227\n",
            "0.8493105173110962\n",
            "1.8213179111480713\n",
            "2.6554224491119385\n",
            "2.1343283653259277\n",
            "1.0903929471969604\n",
            "0.9768303036689758\n",
            "test loss 1.850 \n"
          ],
          "name": "stdout"
        }
      ]
    },
    {
      "cell_type": "code",
      "metadata": {
        "id": "qI2naLFs6cjr",
        "colab_type": "code",
        "outputId": "37f1abaa-0c21-4fb3-c58c-f6d64710c827",
        "colab": {
          "base_uri": "https://localhost:8080/",
          "height": 289
        }
      },
      "source": [
        "train_epocs(model, epochs=15, lr=0.01)"
      ],
      "execution_count": 28,
      "outputs": [
        {
          "output_type": "stream",
          "text": [
            "1.6416702270507812\n",
            "1.0040184259414673\n",
            "0.7117136716842651\n",
            "0.6606287956237793\n",
            "0.7251780033111572\n",
            "0.8032897710800171\n",
            "0.8429989218711853\n",
            "0.8350509405136108\n",
            "0.7930140495300293\n",
            "0.7376703023910522\n",
            "0.6878988742828369\n",
            "0.6558050513267517\n",
            "0.6446864604949951\n",
            "0.6496678590774536\n",
            "0.6610077023506165\n",
            "test loss 0.820 \n"
          ],
          "name": "stdout"
        }
      ]
    },
    {
      "cell_type": "code",
      "metadata": {
        "id": "V4DpyL_VAOjh",
        "colab_type": "code",
        "outputId": "8baf87da-8ac7-4c07-85d8-7f70ccdff327",
        "colab": {
          "base_uri": "https://localhost:8080/",
          "height": 289
        }
      },
      "source": [
        "train_epocs(model, epochs=15, lr=0.01)"
      ],
      "execution_count": 29,
      "outputs": [
        {
          "output_type": "stream",
          "text": [
            "0.6689484715461731\n",
            "0.6315425634384155\n",
            "0.6387416124343872\n",
            "0.6141030788421631\n",
            "0.6055845022201538\n",
            "0.6140269041061401\n",
            "0.6115395426750183\n",
            "0.5966463088989258\n",
            "0.5848434567451477\n",
            "0.5832251310348511\n",
            "0.5843385457992554\n",
            "0.5793509483337402\n",
            "0.5686537623405457\n",
            "0.558416485786438\n",
            "0.5522000193595886\n",
            "test loss 0.759 \n"
          ],
          "name": "stdout"
        }
      ]
    },
    {
      "cell_type": "code",
      "metadata": {
        "id": "xr4eZopq6wPL",
        "colab_type": "code",
        "colab": {}
      },
      "source": [
        "class MF_bias(nn.Module):\n",
        "    def __init__(self, num_users, num_items, emb_size=100):\n",
        "        super(MF_bias, self).__init__()\n",
        "        self.user_emb = nn.Embedding(num_users, emb_size)\n",
        "        self.user_bias = nn.Embedding(num_users, 1)\n",
        "        self.item_emb = nn.Embedding(num_items, emb_size)\n",
        "        self.item_bias = nn.Embedding(num_items, 1)\n",
        "        self.user_emb.weight.data.uniform_(0,0.05)\n",
        "        self.item_emb.weight.data.uniform_(0,0.05)\n",
        "        self.user_bias.weight.data.uniform_(-0.01,0.01)\n",
        "        self.item_bias.weight.data.uniform_(-0.01,0.01)\n",
        "        \n",
        "    def forward(self, u, v):\n",
        "        U = self.user_emb(u)\n",
        "        V = self.item_emb(v)\n",
        "        b_u = self.user_bias(u).squeeze()\n",
        "        b_v = self.item_bias(v).squeeze()\n",
        "        return (U*V).sum(1) +  b_u  + b_v"
      ],
      "execution_count": 0,
      "outputs": []
    },
    {
      "cell_type": "code",
      "metadata": {
        "id": "ZrSXQgaMSjc0",
        "colab_type": "code",
        "colab": {}
      },
      "source": [
        "model = MF_bias(num_users, num_items, emb_size=100).cuda()"
      ],
      "execution_count": 0,
      "outputs": []
    },
    {
      "cell_type": "code",
      "metadata": {
        "id": "1DsJTBma6yBu",
        "colab_type": "code",
        "outputId": "3509532e-dd59-4263-8449-0747080f60b0",
        "colab": {
          "base_uri": "https://localhost:8080/",
          "height": 204
        }
      },
      "source": [
        "train_epocs(model, epochs=10, lr=0.05, wd=1e-5)"
      ],
      "execution_count": 32,
      "outputs": [
        {
          "output_type": "stream",
          "text": [
            "12.915071487426758\n",
            "9.15540885925293\n",
            "4.3873982429504395\n",
            "1.1570138931274414\n",
            "2.4682462215423584\n",
            "3.7454419136047363\n",
            "2.4498417377471924\n",
            "1.0781590938568115\n",
            "0.815197229385376\n",
            "1.317561149597168\n",
            "test loss 2.069 \n"
          ],
          "name": "stdout"
        }
      ]
    },
    {
      "cell_type": "code",
      "metadata": {
        "id": "Xp7UQmfc68F7",
        "colab_type": "code",
        "outputId": "e24e8368-cc88-4aa3-8433-9863be56197d",
        "colab": {
          "base_uri": "https://localhost:8080/",
          "height": 289
        }
      },
      "source": [
        "train_epocs(model, epochs=15, lr=0.001, wd=1e-5)"
      ],
      "execution_count": 33,
      "outputs": [
        {
          "output_type": "stream",
          "text": [
            "1.8933647871017456\n",
            "1.8297353982925415\n",
            "1.7675554752349854\n",
            "1.706886649131775\n",
            "1.647789478302002\n",
            "1.5903232097625732\n",
            "1.534544587135315\n",
            "1.48050856590271\n",
            "1.428265929222107\n",
            "1.3778650760650635\n",
            "1.329349160194397\n",
            "1.2827563285827637\n",
            "1.2381196022033691\n",
            "1.1954656839370728\n",
            "1.1548138856887817\n",
            "test loss 1.300 \n"
          ],
          "name": "stdout"
        }
      ]
    },
    {
      "cell_type": "code",
      "metadata": {
        "id": "p5N7edSVUrup",
        "colab_type": "code",
        "colab": {
          "base_uri": "https://localhost:8080/",
          "height": 289
        },
        "outputId": "e09c7405-04d9-412a-f390-dd2d1fb2b769"
      },
      "source": [
        "train_epocs(model, epochs=15, lr=0.001, wd=1e-5)"
      ],
      "execution_count": 34,
      "outputs": [
        {
          "output_type": "stream",
          "text": [
            "1.1161766052246094\n",
            "1.0768266916275024\n",
            "1.0394872426986694\n",
            "1.004220724105835\n",
            "0.971075177192688\n",
            "0.9400787353515625\n",
            "0.91124027967453\n",
            "0.884547233581543\n",
            "0.8599644303321838\n",
            "0.8374333381652832\n",
            "0.8168718814849854\n",
            "0.7981774210929871\n",
            "0.7812314629554749\n",
            "0.7659043669700623\n",
            "0.7520604729652405\n",
            "test loss 0.925 \n"
          ],
          "name": "stdout"
        }
      ]
    },
    {
      "cell_type": "markdown",
      "metadata": {
        "id": "3pm0wjyq7Ful",
        "colab_type": "text"
      },
      "source": [
        "**Neural Network Model**"
      ]
    },
    {
      "cell_type": "code",
      "metadata": {
        "id": "6Oaa4s5D9BkV",
        "colab_type": "code",
        "colab": {}
      },
      "source": [
        "class CollabFNet(nn.Module):\n",
        "    def __init__(self, num_users, num_items, emb_size=100, n_hidden=10):\n",
        "        super(CollabFNet, self).__init__()\n",
        "        self.user_emb = nn.Embedding(num_users, emb_size)\n",
        "        self.item_emb = nn.Embedding(num_items, emb_size)\n",
        "        self.lin1 = nn.Linear(emb_size*2, n_hidden)\n",
        "        self.lin2 = nn.Linear(n_hidden, 1)\n",
        "        self.drop1 = nn.Dropout(0.1)\n",
        "        \n",
        "    def forward(self, u, v):\n",
        "        U = self.user_emb(u)\n",
        "        V = self.item_emb(v)\n",
        "        x = F.relu(torch.cat([U, V], dim=1))\n",
        "        x = self.drop1(x)\n",
        "        x = F.relu(self.lin1(x))\n",
        "        x = self.lin2(x)\n",
        "        return x"
      ],
      "execution_count": 0,
      "outputs": []
    },
    {
      "cell_type": "code",
      "metadata": {
        "id": "YlksIIi79ar9",
        "colab_type": "code",
        "colab": {}
      },
      "source": [
        "model = CollabFNet(num_users, num_items, emb_size=100).cuda()"
      ],
      "execution_count": 0,
      "outputs": []
    },
    {
      "cell_type": "code",
      "metadata": {
        "id": "5hG2hMOV9iU0",
        "colab_type": "code",
        "outputId": "775d6a17-a622-4dbb-b83f-15b308eab7c4",
        "colab": {
          "base_uri": "https://localhost:8080/",
          "height": 289
        }
      },
      "source": [
        "train_epocs(model, epochs=15, lr=0.01, wd=1e-6, unsqueeze=True)"
      ],
      "execution_count": 37,
      "outputs": [
        {
          "output_type": "stream",
          "text": [
            "10.527831077575684\n",
            "4.3973388671875\n",
            "1.4628932476043701\n",
            "2.090796709060669\n",
            "3.545438766479492\n",
            "3.4488577842712402\n",
            "2.4510934352874756\n",
            "1.5476089715957642\n",
            "1.205419659614563\n",
            "1.373519778251648\n",
            "1.7441908121109009\n",
            "2.0090856552124023\n",
            "2.033430337905884\n",
            "1.830788493156433\n",
            "1.5181148052215576\n",
            "test loss 1.212 \n"
          ],
          "name": "stdout"
        }
      ]
    },
    {
      "cell_type": "code",
      "metadata": {
        "id": "ZmDkDGjHC0Sn",
        "colab_type": "code",
        "outputId": "018a8f30-ffe7-4096-8f8d-fa4e0dd5b822",
        "colab": {
          "base_uri": "https://localhost:8080/",
          "height": 204
        }
      },
      "source": [
        "train_epocs(model, epochs=10, lr=0.001, wd=1e-6, unsqueeze=True)"
      ],
      "execution_count": 38,
      "outputs": [
        {
          "output_type": "stream",
          "text": [
            "1.2298457622528076\n",
            "1.1454737186431885\n",
            "1.0939867496490479\n",
            "1.0723870992660522\n",
            "1.0697979927062988\n",
            "1.0800251960754395\n",
            "1.088917851448059\n",
            "1.091925024986267\n",
            "1.0847903490066528\n",
            "1.0724018812179565\n",
            "test loss 1.021 \n"
          ],
          "name": "stdout"
        }
      ]
    },
    {
      "cell_type": "code",
      "metadata": {
        "id": "XRLLnNjoDaBu",
        "colab_type": "code",
        "outputId": "a94a5028-dbf8-4ca1-ce0e-1224d4614dfd",
        "colab": {
          "base_uri": "https://localhost:8080/",
          "height": 204
        }
      },
      "source": [
        "train_epocs(model, epochs=10, lr=0.001, wd=1e-6, unsqueeze=True)"
      ],
      "execution_count": 39,
      "outputs": [
        {
          "output_type": "stream",
          "text": [
            "1.0574482679367065\n",
            "1.0422446727752686\n",
            "1.0422558784484863\n",
            "1.0394492149353027\n",
            "1.0314496755599976\n",
            "1.0246169567108154\n",
            "1.021031141281128\n",
            "1.0195497274398804\n",
            "1.013393521308899\n",
            "1.0078397989273071\n",
            "test loss 0.976 \n"
          ],
          "name": "stdout"
        }
      ]
    },
    {
      "cell_type": "code",
      "metadata": {
        "id": "4nBrILqzDm0X",
        "colab_type": "code",
        "outputId": "548a17fd-c775-4a9f-d824-6c5ea5a85845",
        "colab": {
          "base_uri": "https://localhost:8080/",
          "height": 289
        }
      },
      "source": [
        "train_epocs(model, epochs=15, lr=0.001, wd=1e-6, unsqueeze=True)"
      ],
      "execution_count": 40,
      "outputs": [
        {
          "output_type": "stream",
          "text": [
            "1.002827763557434\n",
            "1.001441240310669\n",
            "0.9950007796287537\n",
            "0.9916871786117554\n",
            "0.987365186214447\n",
            "0.9804649353027344\n",
            "0.9781243205070496\n",
            "0.9741808772087097\n",
            "0.971028745174408\n",
            "0.9663987755775452\n",
            "0.9646079540252686\n",
            "0.9603044986724854\n",
            "0.9572901129722595\n",
            "0.9550058245658875\n",
            "0.9489405751228333\n",
            "test loss 0.929 \n"
          ],
          "name": "stdout"
        }
      ]
    },
    {
      "cell_type": "code",
      "metadata": {
        "id": "couab0cyDtGR",
        "colab_type": "code",
        "outputId": "127a79ef-0682-4aac-88c5-5371ac96302b",
        "colab": {
          "base_uri": "https://localhost:8080/",
          "height": 204
        }
      },
      "source": [
        "train_epocs(model, epochs=10, lr=0.001, wd=1e-6, unsqueeze=True)"
      ],
      "execution_count": 41,
      "outputs": [
        {
          "output_type": "stream",
          "text": [
            "0.9465813040733337\n",
            "0.9491854906082153\n",
            "0.9396327137947083\n",
            "0.941968560218811\n",
            "0.9393324255943298\n",
            "0.9348950982093811\n",
            "0.9299494028091431\n",
            "0.928834080696106\n",
            "0.9300872087478638\n",
            "0.9258442521095276\n",
            "test loss 0.906 \n"
          ],
          "name": "stdout"
        }
      ]
    },
    {
      "cell_type": "code",
      "metadata": {
        "id": "lka43pbrBCtt",
        "colab_type": "code",
        "outputId": "65ab07c5-c3d9-4160-8d0d-c39de8dd8d52",
        "colab": {
          "base_uri": "https://localhost:8080/",
          "height": 204
        }
      },
      "source": [
        "train_epocs(model, epochs=10, lr=0.001, wd=1e-6, unsqueeze=True)"
      ],
      "execution_count": 42,
      "outputs": [
        {
          "output_type": "stream",
          "text": [
            "0.9211081862449646\n",
            "0.92958664894104\n",
            "0.9156913161277771\n",
            "0.9141028523445129\n",
            "0.9168750643730164\n",
            "0.9126095175743103\n",
            "0.9072227478027344\n",
            "0.9066547155380249\n",
            "0.907153308391571\n",
            "0.9032747149467468\n",
            "test loss 0.891 \n"
          ],
          "name": "stdout"
        }
      ]
    },
    {
      "cell_type": "code",
      "metadata": {
        "id": "_7lEMzNKFpKD",
        "colab_type": "code",
        "outputId": "19d17b74-0d3c-4545-e35d-14476078c24d",
        "colab": {
          "base_uri": "https://localhost:8080/",
          "height": 374
        }
      },
      "source": [
        "train_epocs(model, epochs=20, lr=0.001, wd=1e-6, unsqueeze=True)"
      ],
      "execution_count": 43,
      "outputs": [
        {
          "output_type": "stream",
          "text": [
            "0.9010000228881836\n",
            "0.9051945805549622\n",
            "0.8958633542060852\n",
            "0.8930111527442932\n",
            "0.8925940990447998\n",
            "0.8900536894798279\n",
            "0.8854279518127441\n",
            "0.8847507238388062\n",
            "0.8853355646133423\n",
            "0.8823544979095459\n",
            "0.8788034915924072\n",
            "0.8771247267723083\n",
            "0.8758488893508911\n",
            "0.8734947443008423\n",
            "0.8708720207214355\n",
            "0.8691118359565735\n",
            "0.866449236869812\n",
            "0.8654439449310303\n",
            "0.8622372150421143\n",
            "0.8604443669319153\n",
            "test loss 0.856 \n"
          ],
          "name": "stdout"
        }
      ]
    },
    {
      "cell_type": "code",
      "metadata": {
        "id": "ilt-JGpoF0HG",
        "colab_type": "code",
        "outputId": "059bc32b-93bd-4e2f-b4ed-7056adfa79c8",
        "colab": {
          "base_uri": "https://localhost:8080/",
          "height": 289
        }
      },
      "source": [
        "train_epocs(model, epochs=15, lr=0.001, wd=1e-6, unsqueeze=True)"
      ],
      "execution_count": 44,
      "outputs": [
        {
          "output_type": "stream",
          "text": [
            "0.8564600944519043\n",
            "0.8691964149475098\n",
            "0.854751467704773\n",
            "0.8572797179222107\n",
            "0.8579795956611633\n",
            "0.8561875224113464\n",
            "0.8484776020050049\n",
            "0.8457061648368835\n",
            "0.846909761428833\n",
            "0.8461892604827881\n",
            "0.8435625433921814\n",
            "0.8423859477043152\n",
            "0.840636134147644\n",
            "0.8368220329284668\n",
            "0.8351836204528809\n",
            "test loss 0.837 \n"
          ],
          "name": "stdout"
        }
      ]
    }
  ]
}
{
  "nbformat": 4,
  "nbformat_minor": 0,
  "metadata": {
    "colab": {
      "name": "recommendation_system.ipynb",
      "provenance": [],
      "toc_visible": true,
      "authorship_tag": "ABX9TyNEqRSXlcGCsmcydpR2SgAh",
      "include_colab_link": true
    },
    "kernelspec": {
      "name": "python3",
      "display_name": "Python 3"
    },
    "accelerator": "GPU"
  },
  "cells": [
    {
      "cell_type": "markdown",
      "metadata": {
        "id": "view-in-github",
        "colab_type": "text"
      },
      "source": [
        "<a href=\"https://colab.research.google.com/github/moushfiq/recommender_system/blob/master/recommendation_system.ipynb\" target=\"_parent\"><img src=\"https://colab.research.google.com/assets/colab-badge.svg\" alt=\"Open In Colab\"/></a>"
      ]
    },
    {
      "cell_type": "code",
      "metadata": {
        "id": "qGY0wPmYbuO5",
        "colab_type": "code",
        "outputId": "e53f035f-7199-457a-ee83-62fee2828b2e",
        "colab": {
          "base_uri": "https://localhost:8080/",
          "height": 122
        }
      },
      "source": [
        "from google.colab import drive\n",
        "drive.mount('/content/drive')"
      ],
      "execution_count": 3,
      "outputs": [
        {
          "output_type": "stream",
          "text": [
            "Go to this URL in a browser: https://accounts.google.com/o/oauth2/auth?client_id=947318989803-6bn6qk8qdgf4n4g3pfee6491hc0brc4i.apps.googleusercontent.com&redirect_uri=urn%3aietf%3awg%3aoauth%3a2.0%3aoob&response_type=code&scope=email%20https%3a%2f%2fwww.googleapis.com%2fauth%2fdocs.test%20https%3a%2f%2fwww.googleapis.com%2fauth%2fdrive%20https%3a%2f%2fwww.googleapis.com%2fauth%2fdrive.photos.readonly%20https%3a%2f%2fwww.googleapis.com%2fauth%2fpeopleapi.readonly\n",
            "\n",
            "Enter your authorization code:\n",
            "··········\n",
            "Mounted at /content/drive\n"
          ],
          "name": "stdout"
        }
      ]
    },
    {
      "cell_type": "code",
      "metadata": {
        "id": "JNuBV8fBgFOq",
        "colab_type": "code",
        "colab": {}
      },
      "source": [
        "from pathlib import Path\n",
        "import pandas as pd\n",
        "import numpy as np"
      ],
      "execution_count": 0,
      "outputs": []
    },
    {
      "cell_type": "code",
      "metadata": {
        "id": "CUK_CWiGcm90",
        "colab_type": "code",
        "outputId": "7cb50df2-2e12-4d29-9bcb-df60f0585fae",
        "colab": {
          "base_uri": "https://localhost:8080/",
          "height": 102
        }
      },
      "source": [
        "PATH = Path(\"/content/drive/My Drive/ml-latest-small\")\n",
        "list(PATH.iterdir())"
      ],
      "execution_count": 5,
      "outputs": [
        {
          "output_type": "execute_result",
          "data": {
            "text/plain": [
              "[PosixPath('/content/drive/My Drive/ml-latest-small/links.csv'),\n",
              " PosixPath('/content/drive/My Drive/ml-latest-small/README.txt'),\n",
              " PosixPath('/content/drive/My Drive/ml-latest-small/movies.csv'),\n",
              " PosixPath('/content/drive/My Drive/ml-latest-small/tags.csv'),\n",
              " PosixPath('/content/drive/My Drive/ml-latest-small/ratings.csv')]"
            ]
          },
          "metadata": {
            "tags": []
          },
          "execution_count": 5
        }
      ]
    },
    {
      "cell_type": "code",
      "metadata": {
        "id": "aOZgB7sE0dlb",
        "colab_type": "code",
        "colab": {}
      },
      "source": [
        "data = pd.read_csv(PATH/\"ratings.csv\")"
      ],
      "execution_count": 0,
      "outputs": []
    },
    {
      "cell_type": "code",
      "metadata": {
        "id": "6C88pN1W02_g",
        "colab_type": "code",
        "outputId": "d1680f7b-c603-43b3-cc62-7c87dbd63620",
        "colab": {
          "base_uri": "https://localhost:8080/",
          "height": 204
        }
      },
      "source": [
        "data.head()"
      ],
      "execution_count": 7,
      "outputs": [
        {
          "output_type": "execute_result",
          "data": {
            "text/html": [
              "<div>\n",
              "<style scoped>\n",
              "    .dataframe tbody tr th:only-of-type {\n",
              "        vertical-align: middle;\n",
              "    }\n",
              "\n",
              "    .dataframe tbody tr th {\n",
              "        vertical-align: top;\n",
              "    }\n",
              "\n",
              "    .dataframe thead th {\n",
              "        text-align: right;\n",
              "    }\n",
              "</style>\n",
              "<table border=\"1\" class=\"dataframe\">\n",
              "  <thead>\n",
              "    <tr style=\"text-align: right;\">\n",
              "      <th></th>\n",
              "      <th>userId</th>\n",
              "      <th>movieId</th>\n",
              "      <th>rating</th>\n",
              "      <th>timestamp</th>\n",
              "    </tr>\n",
              "  </thead>\n",
              "  <tbody>\n",
              "    <tr>\n",
              "      <th>0</th>\n",
              "      <td>1</td>\n",
              "      <td>1</td>\n",
              "      <td>4.0</td>\n",
              "      <td>964982703</td>\n",
              "    </tr>\n",
              "    <tr>\n",
              "      <th>1</th>\n",
              "      <td>1</td>\n",
              "      <td>3</td>\n",
              "      <td>4.0</td>\n",
              "      <td>964981247</td>\n",
              "    </tr>\n",
              "    <tr>\n",
              "      <th>2</th>\n",
              "      <td>1</td>\n",
              "      <td>6</td>\n",
              "      <td>4.0</td>\n",
              "      <td>964982224</td>\n",
              "    </tr>\n",
              "    <tr>\n",
              "      <th>3</th>\n",
              "      <td>1</td>\n",
              "      <td>47</td>\n",
              "      <td>5.0</td>\n",
              "      <td>964983815</td>\n",
              "    </tr>\n",
              "    <tr>\n",
              "      <th>4</th>\n",
              "      <td>1</td>\n",
              "      <td>50</td>\n",
              "      <td>5.0</td>\n",
              "      <td>964982931</td>\n",
              "    </tr>\n",
              "  </tbody>\n",
              "</table>\n",
              "</div>"
            ],
            "text/plain": [
              "   userId  movieId  rating  timestamp\n",
              "0       1        1     4.0  964982703\n",
              "1       1        3     4.0  964981247\n",
              "2       1        6     4.0  964982224\n",
              "3       1       47     5.0  964983815\n",
              "4       1       50     5.0  964982931"
            ]
          },
          "metadata": {
            "tags": []
          },
          "execution_count": 7
        }
      ]
    },
    {
      "cell_type": "code",
      "metadata": {
        "id": "kIS_Z2y61GiQ",
        "colab_type": "code",
        "colab": {}
      },
      "source": [
        "# split train and validation\n",
        "np.random.seed(3)\n",
        "msk = np.random.rand(len(data)) < 0.8\n",
        "train = data[msk].copy()\n",
        "val = data[~msk].copy()"
      ],
      "execution_count": 0,
      "outputs": []
    },
    {
      "cell_type": "code",
      "metadata": {
        "id": "BUndtPVa1SxI",
        "colab_type": "code",
        "colab": {}
      },
      "source": [
        "def proc_col(col, train_col=None):\n",
        "    \"\"\"Encodes a pandas column with continous ids. \n",
        "    \"\"\"\n",
        "    if train_col is not None:\n",
        "        uniq = train_col.unique()\n",
        "    else:\n",
        "        uniq = col.unique()\n",
        "    name2idx = {o:i for i,o in enumerate(uniq)}\n",
        "    return name2idx, np.array([name2idx.get(x, -1) for x in col]), len(uniq)"
      ],
      "execution_count": 0,
      "outputs": []
    },
    {
      "cell_type": "code",
      "metadata": {
        "id": "srG6ffqB1UtR",
        "colab_type": "code",
        "colab": {}
      },
      "source": [
        "def encode_data(df, train=None):\n",
        "    \"\"\" Encodes rating data with continous user and movie ids. \n",
        "    If train is provided, encodes df with the same encoding as train.\n",
        "    \"\"\"\n",
        "    df = df.copy()\n",
        "    for col_name in [\"userId\", \"movieId\"]:\n",
        "        train_col = None\n",
        "        if train is not None:\n",
        "            train_col = train[col_name]\n",
        "        _,col,_ = proc_col(df[col_name], train_col)\n",
        "        df[col_name] = col\n",
        "        df = df[df[col_name] >= 0]\n",
        "    return df"
      ],
      "execution_count": 0,
      "outputs": []
    },
    {
      "cell_type": "code",
      "metadata": {
        "id": "HoTUGmRR4Xsp",
        "colab_type": "code",
        "outputId": "c3db307c-a8f7-46f5-a4c9-64a72f934e1f",
        "colab": {
          "base_uri": "https://localhost:8080/",
          "height": 493
        }
      },
      "source": [
        "# to check my new implementation\n",
        "LOCAL_PATH = Path(\"/content/drive/My Drive/train-data\")\n",
        "df_t = pd.read_csv(LOCAL_PATH/\"tiny_training2.csv\")\n",
        "df_v = pd.read_csv(LOCAL_PATH/\"tiny_val2.csv\")\n",
        "print(df_t)\n",
        "df_t_e = encode_data(df_t)\n",
        "df_v_e = encode_data(df_v, df_t)\n",
        "df_v_e\n",
        "print(df_t_e)"
      ],
      "execution_count": 11,
      "outputs": [
        {
          "output_type": "stream",
          "text": [
            "    userId  movieId  rating\n",
            "0       11        1       4\n",
            "1       11       23       5\n",
            "2        2       23       5\n",
            "3        2        4       3\n",
            "4       31        1       4\n",
            "5       31       23       4\n",
            "6        4        1       5\n",
            "7        4        3       2\n",
            "8       52        1       1\n",
            "9       52        3       4\n",
            "10      61        3       5\n",
            "11       7       23       1\n",
            "12       7        3       3\n",
            "    userId  movieId  rating\n",
            "0        0        0       4\n",
            "1        0        1       5\n",
            "2        1        1       5\n",
            "3        1        2       3\n",
            "4        2        0       4\n",
            "5        2        1       4\n",
            "6        3        0       5\n",
            "7        3        3       2\n",
            "8        4        0       1\n",
            "9        4        3       4\n",
            "10       5        3       5\n",
            "11       6        1       1\n",
            "12       6        3       3\n"
          ],
          "name": "stdout"
        }
      ]
    },
    {
      "cell_type": "code",
      "metadata": {
        "id": "oFYlnbo81aIi",
        "colab_type": "code",
        "colab": {}
      },
      "source": [
        "# encoding the train and validation data\n",
        "df_train = encode_data(train)\n",
        "df_val = encode_data(val, train)"
      ],
      "execution_count": 0,
      "outputs": []
    },
    {
      "cell_type": "markdown",
      "metadata": {
        "id": "LW63Qs8r2Exi",
        "colab_type": "text"
      },
      "source": [
        "**Import Torch and Embed layer**"
      ]
    },
    {
      "cell_type": "code",
      "metadata": {
        "id": "t6TIQNYJ2S9Y",
        "colab_type": "code",
        "colab": {}
      },
      "source": [
        "import torch\n",
        "import torch.nn as nn\n",
        "import torch.nn.functional as F"
      ],
      "execution_count": 0,
      "outputs": []
    },
    {
      "cell_type": "code",
      "metadata": {
        "id": "fks8V1B92YOZ",
        "colab_type": "code",
        "colab": {}
      },
      "source": [
        "# an Embedding module containing 10 user or item embedding size 3\n",
        "# embedding will be initialized at random\n",
        "embed = nn.Embedding(10, 3)"
      ],
      "execution_count": 0,
      "outputs": []
    },
    {
      "cell_type": "code",
      "metadata": {
        "id": "tKMf62xb2qNR",
        "colab_type": "code",
        "outputId": "781aab37-189e-4167-db6d-e352928ade91",
        "colab": {
          "base_uri": "https://localhost:8080/",
          "height": 119
        }
      },
      "source": [
        "# given a list of ids we can \"look up\" the embedding corresponing to each id\n",
        "a = torch.LongTensor([[1,2,0,4,5,1]])\n",
        "embed(a)"
      ],
      "execution_count": 15,
      "outputs": [
        {
          "output_type": "execute_result",
          "data": {
            "text/plain": [
              "tensor([[[-0.2171,  0.5320,  0.9569],\n",
              "         [ 2.0369, -0.0475,  0.1550],\n",
              "         [ 0.7295, -1.0892,  0.6157],\n",
              "         [ 0.3676, -0.0295,  1.1777],\n",
              "         [ 0.0460, -0.7413, -0.7258],\n",
              "         [-0.2171,  0.5320,  0.9569]]], grad_fn=<EmbeddingBackward>)"
            ]
          },
          "metadata": {
            "tags": []
          },
          "execution_count": 15
        }
      ]
    },
    {
      "cell_type": "markdown",
      "metadata": {
        "id": "-YAbmM5r2voC",
        "colab_type": "text"
      },
      "source": [
        "**Matrix Factorization Model**\n"
      ]
    },
    {
      "cell_type": "code",
      "metadata": {
        "id": "xyWlicQm3DJR",
        "colab_type": "code",
        "colab": {}
      },
      "source": [
        "class MF(nn.Module):\n",
        "    def __init__(self, num_users, num_items, emb_size=100):\n",
        "        super(MF, self).__init__()\n",
        "        self.user_emb = nn.Embedding(num_users, emb_size)\n",
        "        self.item_emb = nn.Embedding(num_items, emb_size)\n",
        "        self.user_emb.weight.data.uniform_(0, 0.05)\n",
        "        self.item_emb.weight.data.uniform_(0, 0.05)\n",
        "        \n",
        "    def forward(self, u, v):\n",
        "        u = self.user_emb(u)\n",
        "        v = self.item_emb(v)\n",
        "        return (u*v).sum(1)"
      ],
      "execution_count": 0,
      "outputs": []
    },
    {
      "cell_type": "markdown",
      "metadata": {
        "id": "MPX1Fa6X3Nxp",
        "colab_type": "text"
      },
      "source": [
        "Test MF model"
      ]
    },
    {
      "cell_type": "code",
      "metadata": {
        "id": "Os84MCiT3P84",
        "colab_type": "code",
        "outputId": "4d7f4300-5981-4e32-9995-ae1b9220dab3",
        "colab": {
          "base_uri": "https://localhost:8080/",
          "height": 452
        }
      },
      "source": [
        "df_t_e"
      ],
      "execution_count": 17,
      "outputs": [
        {
          "output_type": "execute_result",
          "data": {
            "text/html": [
              "<div>\n",
              "<style scoped>\n",
              "    .dataframe tbody tr th:only-of-type {\n",
              "        vertical-align: middle;\n",
              "    }\n",
              "\n",
              "    .dataframe tbody tr th {\n",
              "        vertical-align: top;\n",
              "    }\n",
              "\n",
              "    .dataframe thead th {\n",
              "        text-align: right;\n",
              "    }\n",
              "</style>\n",
              "<table border=\"1\" class=\"dataframe\">\n",
              "  <thead>\n",
              "    <tr style=\"text-align: right;\">\n",
              "      <th></th>\n",
              "      <th>userId</th>\n",
              "      <th>movieId</th>\n",
              "      <th>rating</th>\n",
              "    </tr>\n",
              "  </thead>\n",
              "  <tbody>\n",
              "    <tr>\n",
              "      <th>0</th>\n",
              "      <td>0</td>\n",
              "      <td>0</td>\n",
              "      <td>4</td>\n",
              "    </tr>\n",
              "    <tr>\n",
              "      <th>1</th>\n",
              "      <td>0</td>\n",
              "      <td>1</td>\n",
              "      <td>5</td>\n",
              "    </tr>\n",
              "    <tr>\n",
              "      <th>2</th>\n",
              "      <td>1</td>\n",
              "      <td>1</td>\n",
              "      <td>5</td>\n",
              "    </tr>\n",
              "    <tr>\n",
              "      <th>3</th>\n",
              "      <td>1</td>\n",
              "      <td>2</td>\n",
              "      <td>3</td>\n",
              "    </tr>\n",
              "    <tr>\n",
              "      <th>4</th>\n",
              "      <td>2</td>\n",
              "      <td>0</td>\n",
              "      <td>4</td>\n",
              "    </tr>\n",
              "    <tr>\n",
              "      <th>5</th>\n",
              "      <td>2</td>\n",
              "      <td>1</td>\n",
              "      <td>4</td>\n",
              "    </tr>\n",
              "    <tr>\n",
              "      <th>6</th>\n",
              "      <td>3</td>\n",
              "      <td>0</td>\n",
              "      <td>5</td>\n",
              "    </tr>\n",
              "    <tr>\n",
              "      <th>7</th>\n",
              "      <td>3</td>\n",
              "      <td>3</td>\n",
              "      <td>2</td>\n",
              "    </tr>\n",
              "    <tr>\n",
              "      <th>8</th>\n",
              "      <td>4</td>\n",
              "      <td>0</td>\n",
              "      <td>1</td>\n",
              "    </tr>\n",
              "    <tr>\n",
              "      <th>9</th>\n",
              "      <td>4</td>\n",
              "      <td>3</td>\n",
              "      <td>4</td>\n",
              "    </tr>\n",
              "    <tr>\n",
              "      <th>10</th>\n",
              "      <td>5</td>\n",
              "      <td>3</td>\n",
              "      <td>5</td>\n",
              "    </tr>\n",
              "    <tr>\n",
              "      <th>11</th>\n",
              "      <td>6</td>\n",
              "      <td>1</td>\n",
              "      <td>1</td>\n",
              "    </tr>\n",
              "    <tr>\n",
              "      <th>12</th>\n",
              "      <td>6</td>\n",
              "      <td>3</td>\n",
              "      <td>3</td>\n",
              "    </tr>\n",
              "  </tbody>\n",
              "</table>\n",
              "</div>"
            ],
            "text/plain": [
              "    userId  movieId  rating\n",
              "0        0        0       4\n",
              "1        0        1       5\n",
              "2        1        1       5\n",
              "3        1        2       3\n",
              "4        2        0       4\n",
              "5        2        1       4\n",
              "6        3        0       5\n",
              "7        3        3       2\n",
              "8        4        0       1\n",
              "9        4        3       4\n",
              "10       5        3       5\n",
              "11       6        1       1\n",
              "12       6        3       3"
            ]
          },
          "metadata": {
            "tags": []
          },
          "execution_count": 17
        }
      ]
    },
    {
      "cell_type": "code",
      "metadata": {
        "id": "Wp8FX2Ur5BYc",
        "colab_type": "code",
        "colab": {}
      },
      "source": [
        "num_users = 7\n",
        "num_items = 4\n",
        "emb_size = 3\n",
        "\n",
        "user_emb = nn.Embedding(num_users, emb_size)\n",
        "item_emb = nn.Embedding(num_items, emb_size)\n",
        "users = torch.LongTensor(df_t_e.userId.values)\n",
        "items = torch.LongTensor(df_t_e.movieId.values)"
      ],
      "execution_count": 0,
      "outputs": []
    },
    {
      "cell_type": "code",
      "metadata": {
        "id": "0SD5dvOt5GFa",
        "colab_type": "code",
        "colab": {}
      },
      "source": [
        "U = user_emb(users)\n",
        "V = item_emb(items)"
      ],
      "execution_count": 0,
      "outputs": []
    },
    {
      "cell_type": "code",
      "metadata": {
        "id": "3YVJhuUb5JvD",
        "colab_type": "code",
        "outputId": "f2e37ee6-5e3c-4129-ce30-1e4bf8b690f9",
        "colab": {
          "base_uri": "https://localhost:8080/",
          "height": 238
        }
      },
      "source": [
        "U"
      ],
      "execution_count": 20,
      "outputs": [
        {
          "output_type": "execute_result",
          "data": {
            "text/plain": [
              "tensor([[-1.6305,  0.0084,  0.5827],\n",
              "        [-1.6305,  0.0084,  0.5827],\n",
              "        [-0.5928, -0.9193,  1.7617],\n",
              "        [-0.5928, -0.9193,  1.7617],\n",
              "        [ 0.4858,  0.3749, -0.5343],\n",
              "        [ 0.4858,  0.3749, -0.5343],\n",
              "        [-1.2974, -0.1846, -0.0854],\n",
              "        [-1.2974, -0.1846, -0.0854],\n",
              "        [ 1.1381,  0.4540, -0.8327],\n",
              "        [ 1.1381,  0.4540, -0.8327],\n",
              "        [ 0.4697, -0.0931,  0.4023],\n",
              "        [ 0.4336,  1.0022, -0.7400],\n",
              "        [ 0.4336,  1.0022, -0.7400]], grad_fn=<EmbeddingBackward>)"
            ]
          },
          "metadata": {
            "tags": []
          },
          "execution_count": 20
        }
      ]
    },
    {
      "cell_type": "code",
      "metadata": {
        "id": "Z49ZG2OK5MJa",
        "colab_type": "code",
        "outputId": "b8b46282-6d9f-402f-b7a9-c40bdde401ce",
        "colab": {
          "base_uri": "https://localhost:8080/",
          "height": 238
        }
      },
      "source": [
        "# element wise multiplication\n",
        "U*V"
      ],
      "execution_count": 21,
      "outputs": [
        {
          "output_type": "execute_result",
          "data": {
            "text/plain": [
              "tensor([[-6.6118e-01, -1.6809e-02,  8.8889e-01],\n",
              "        [-2.7001e+00,  1.2819e-05,  8.5163e-02],\n",
              "        [-9.8176e-01, -1.4082e-03,  2.5749e-01],\n",
              "        [-1.7797e-01, -8.4583e-01, -6.1206e-01],\n",
              "        [ 1.9700e-01, -7.5297e-01, -8.1513e-01],\n",
              "        [ 8.0450e-01,  5.7425e-04, -7.8096e-02],\n",
              "        [-5.2610e-01,  3.7076e-01, -1.3030e-01],\n",
              "        [-1.4311e-01, -2.8507e-01, -2.2352e-02],\n",
              "        [ 4.6152e-01, -9.1201e-01, -1.2703e+00],\n",
              "        [ 1.2554e-01,  7.0123e-01, -2.1790e-01],\n",
              "        [ 5.1809e-02, -1.4379e-01,  1.0528e-01],\n",
              "        [ 7.1807e-01,  1.5353e-03, -1.0816e-01],\n",
              "        [ 4.7830e-02,  1.5479e+00, -1.9366e-01]], grad_fn=<MulBackward0>)"
            ]
          },
          "metadata": {
            "tags": []
          },
          "execution_count": 21
        }
      ]
    },
    {
      "cell_type": "code",
      "metadata": {
        "id": "7BUHRu2_5VJ8",
        "colab_type": "code",
        "outputId": "a343d1fa-f3f6-4c23-a491-a39b3f3095fe",
        "colab": {
          "base_uri": "https://localhost:8080/",
          "height": 51
        }
      },
      "source": [
        "# dot product per row\n",
        "(U*V).sum(1)"
      ],
      "execution_count": 22,
      "outputs": [
        {
          "output_type": "execute_result",
          "data": {
            "text/plain": [
              "tensor([ 0.2109, -2.6150, -0.7257, -1.6359, -1.3711,  0.7270, -0.2856, -0.4505,\n",
              "        -1.7208,  0.6089,  0.0133,  0.6114,  1.4020], grad_fn=<SumBackward1>)"
            ]
          },
          "metadata": {
            "tags": []
          },
          "execution_count": 22
        }
      ]
    },
    {
      "cell_type": "markdown",
      "metadata": {
        "id": "ucFe-n-W5d8C",
        "colab_type": "text"
      },
      "source": [
        "Training Matrix Factorization"
      ]
    },
    {
      "cell_type": "code",
      "metadata": {
        "id": "YWWo6EB65bZK",
        "colab_type": "code",
        "outputId": "bb4ba8ef-b8fb-4232-9217-e17ecf1dd53c",
        "colab": {
          "base_uri": "https://localhost:8080/",
          "height": 34
        }
      },
      "source": [
        "num_users = len(df_train.userId.unique())\n",
        "num_items = len(df_train.movieId.unique())\n",
        "print(num_users, num_items)"
      ],
      "execution_count": 23,
      "outputs": [
        {
          "output_type": "stream",
          "text": [
            "610 8998\n"
          ],
          "name": "stdout"
        }
      ]
    },
    {
      "cell_type": "code",
      "metadata": {
        "id": "LHGVwlc55x2s",
        "colab_type": "code",
        "colab": {}
      },
      "source": [
        "model = MF(num_users, num_items, emb_size=100) "
      ],
      "execution_count": 0,
      "outputs": []
    },
    {
      "cell_type": "code",
      "metadata": {
        "id": "2PDAN_Xe52hL",
        "colab_type": "code",
        "colab": {}
      },
      "source": [
        "def train_epocs(model, epochs=10, lr=0.01, wd=0.0, unsqueeze=False):\n",
        "    optimizer = torch.optim.Adam(model.parameters(), lr=lr, weight_decay=wd)\n",
        "    model.train()\n",
        "    for i in range(epochs):\n",
        "        users = torch.LongTensor(df_train.userId.values) # .cuda()\n",
        "        items = torch.LongTensor(df_train.movieId.values) #.cuda()\n",
        "        ratings = torch.FloatTensor(df_train.rating.values) #.cuda()\n",
        "        if unsqueeze:\n",
        "            ratings = ratings.unsqueeze(1)\n",
        "        y_hat = model(users, items)\n",
        "        loss = F.mse_loss(y_hat, ratings)\n",
        "        optimizer.zero_grad()\n",
        "        loss.backward()\n",
        "        optimizer.step()\n",
        "        print(loss.item()) \n",
        "    test_loss(model, unsqueeze)"
      ],
      "execution_count": 0,
      "outputs": []
    },
    {
      "cell_type": "code",
      "metadata": {
        "id": "s6KLim3p6GGv",
        "colab_type": "code",
        "outputId": "54888ceb-1a0e-4b8e-c12c-81f0eff313eb",
        "colab": {
          "base_uri": "https://localhost:8080/",
          "height": 51
        }
      },
      "source": [
        "# Here is what unsqueeze does\n",
        "ratings = torch.FloatTensor(df_train.rating.values)\n",
        "print(ratings.shape)\n",
        "ratings = ratings.unsqueeze(1) # .cuda()\n",
        "print(ratings.shape)"
      ],
      "execution_count": 26,
      "outputs": [
        {
          "output_type": "stream",
          "text": [
            "torch.Size([80450])\n",
            "torch.Size([80450, 1])\n"
          ],
          "name": "stdout"
        }
      ]
    },
    {
      "cell_type": "code",
      "metadata": {
        "id": "8es5dgvV6Kla",
        "colab_type": "code",
        "colab": {}
      },
      "source": [
        "def test_loss(model, unsqueeze=False):\n",
        "    model.eval()\n",
        "    users = torch.LongTensor(df_val.userId.values) #.cuda()\n",
        "    items = torch.LongTensor(df_val.movieId.values) #.cuda()\n",
        "    ratings = torch.FloatTensor(df_val.rating.values) #.cuda()\n",
        "    if unsqueeze:\n",
        "        ratings = ratings.unsqueeze(1)\n",
        "    y_hat = model(users, items)\n",
        "    loss = F.mse_loss(y_hat, ratings)\n",
        "    print(\"test loss %.3f \" % loss.item())"
      ],
      "execution_count": 0,
      "outputs": []
    },
    {
      "cell_type": "code",
      "metadata": {
        "id": "n5K5W0yB6T7l",
        "colab_type": "code",
        "outputId": "60a3c76a-b3f8-4921-88f0-2856014bf09e",
        "colab": {
          "base_uri": "https://localhost:8080/",
          "height": 204
        }
      },
      "source": [
        "train_epocs(model, epochs=10, lr=0.1)"
      ],
      "execution_count": 28,
      "outputs": [
        {
          "output_type": "stream",
          "text": [
            "12.911651611328125\n",
            "4.852427005767822\n",
            "2.6006085872650146\n",
            "3.0972471237182617\n",
            "0.849687397480011\n",
            "1.8230549097061157\n",
            "2.658811092376709\n",
            "2.13855242729187\n",
            "1.0933785438537598\n",
            "0.9764396548271179\n",
            "test loss 1.848 \n"
          ],
          "name": "stdout"
        }
      ]
    },
    {
      "cell_type": "code",
      "metadata": {
        "id": "qI2naLFs6cjr",
        "colab_type": "code",
        "outputId": "003c168e-f849-4a46-c3cd-a47ca3a27678",
        "colab": {
          "base_uri": "https://localhost:8080/",
          "height": 289
        }
      },
      "source": [
        "train_epocs(model, epochs=15, lr=0.01)"
      ],
      "execution_count": 29,
      "outputs": [
        {
          "output_type": "stream",
          "text": [
            "1.640723466873169\n",
            "1.0038890838623047\n",
            "0.7118932008743286\n",
            "0.6608598828315735\n",
            "0.725455105304718\n",
            "0.8034926652908325\n",
            "0.843034029006958\n",
            "0.8349044322967529\n",
            "0.792697548866272\n",
            "0.7371857762336731\n",
            "0.6872811317443848\n",
            "0.6551764607429504\n",
            "0.6442149877548218\n",
            "0.6494647264480591\n",
            "0.6610665917396545\n",
            "test loss 0.822 \n"
          ],
          "name": "stdout"
        }
      ]
    },
    {
      "cell_type": "code",
      "metadata": {
        "id": "xr4eZopq6wPL",
        "colab_type": "code",
        "colab": {}
      },
      "source": [
        "class MF_bias(nn.Module):\n",
        "    def __init__(self, num_users, num_items, emb_size=100):\n",
        "        super(MF_bias, self).__init__()\n",
        "        self.user_emb = nn.Embedding(num_users, emb_size)\n",
        "        self.user_bias = nn.Embedding(num_users, 1)\n",
        "        self.item_emb = nn.Embedding(num_items, emb_size)\n",
        "        self.item_bias = nn.Embedding(num_items, 1)\n",
        "        self.user_emb.weight.data.uniform_(0,0.05)\n",
        "        self.item_emb.weight.data.uniform_(0,0.05)\n",
        "        self.user_bias.weight.data.uniform_(-0.01,0.01)\n",
        "        self.item_bias.weight.data.uniform_(-0.01,0.01)\n",
        "        \n",
        "    def forward(self, u, v):\n",
        "        U = self.user_emb(u)\n",
        "        V = self.item_emb(v)\n",
        "        b_u = self.user_bias(u).squeeze()\n",
        "        b_v = self.item_bias(v).squeeze()\n",
        "        return (U*V).sum(1) +  b_u  + b_v"
      ],
      "execution_count": 0,
      "outputs": []
    },
    {
      "cell_type": "code",
      "metadata": {
        "id": "1DsJTBma6yBu",
        "colab_type": "code",
        "outputId": "5c99ea02-3c02-41ba-81fe-14676f451ef7",
        "colab": {
          "base_uri": "https://localhost:8080/",
          "height": 204
        }
      },
      "source": [
        "train_epocs(model, epochs=10, lr=0.05, wd=1e-5)"
      ],
      "execution_count": 31,
      "outputs": [
        {
          "output_type": "stream",
          "text": [
            "0.6691606044769287\n",
            "2.6905386447906494\n",
            "0.9286358952522278\n",
            "1.0641108751296997\n",
            "1.5824449062347412\n",
            "0.8749094009399414\n",
            "0.6421241760253906\n",
            "0.9863578081130981\n",
            "1.1793698072433472\n",
            "0.9905561208724976\n",
            "test loss 0.859 \n"
          ],
          "name": "stdout"
        }
      ]
    },
    {
      "cell_type": "code",
      "metadata": {
        "id": "Xp7UQmfc68F7",
        "colab_type": "code",
        "outputId": "9096fac5-81c4-4a2f-b9ff-3bf9e9836ce1",
        "colab": {
          "base_uri": "https://localhost:8080/",
          "height": 204
        }
      },
      "source": [
        "train_epocs(model, epochs=10, lr=0.001, wd=1e-5)"
      ],
      "execution_count": 32,
      "outputs": [
        {
          "output_type": "stream",
          "text": [
            "0.6787070035934448\n",
            "0.6584814190864563\n",
            "0.6407109498977661\n",
            "0.6254310011863708\n",
            "0.6126359701156616\n",
            "0.6022632122039795\n",
            "0.5941783785820007\n",
            "0.5881704688072205\n",
            "0.5839525461196899\n",
            "0.5811811089515686\n",
            "test loss 0.765 \n"
          ],
          "name": "stdout"
        }
      ]
    },
    {
      "cell_type": "markdown",
      "metadata": {
        "id": "3pm0wjyq7Ful",
        "colab_type": "text"
      },
      "source": [
        "**Neural Network Model**"
      ]
    },
    {
      "cell_type": "code",
      "metadata": {
        "id": "6Oaa4s5D9BkV",
        "colab_type": "code",
        "colab": {}
      },
      "source": [
        "class CollabFNet(nn.Module):\n",
        "    def __init__(self, num_users, num_items, emb_size=100, n_hidden=10):\n",
        "        super(CollabFNet, self).__init__()\n",
        "        self.user_emb = nn.Embedding(num_users, emb_size)\n",
        "        self.item_emb = nn.Embedding(num_items, emb_size)\n",
        "        self.lin1 = nn.Linear(emb_size*2, n_hidden)\n",
        "        self.lin2 = nn.Linear(n_hidden, 1)\n",
        "        self.drop1 = nn.Dropout(0.1)\n",
        "        \n",
        "    def forward(self, u, v):\n",
        "        U = self.user_emb(u)\n",
        "        V = self.item_emb(v)\n",
        "        x = F.relu(torch.cat([U, V], dim=1))\n",
        "        x = self.drop1(x)\n",
        "        x = F.relu(self.lin1(x))\n",
        "        x = self.lin2(x)\n",
        "        return x"
      ],
      "execution_count": 0,
      "outputs": []
    },
    {
      "cell_type": "code",
      "metadata": {
        "id": "YlksIIi79ar9",
        "colab_type": "code",
        "colab": {}
      },
      "source": [
        "model = CollabFNet(num_users, num_items, emb_size=100)"
      ],
      "execution_count": 0,
      "outputs": []
    },
    {
      "cell_type": "code",
      "metadata": {
        "id": "5hG2hMOV9iU0",
        "colab_type": "code",
        "outputId": "46f17159-6381-4070-ae0c-5980eeef612f",
        "colab": {
          "base_uri": "https://localhost:8080/",
          "height": 204
        }
      },
      "source": [
        "train_epocs(model, epochs=10, lr=0.01, wd=1e-6, unsqueeze=True)"
      ],
      "execution_count": 45,
      "outputs": [
        {
          "output_type": "stream",
          "text": [
            "1.2090132236480713\n",
            "1.965401291847229\n",
            "1.1685296297073364\n",
            "1.3018543720245361\n",
            "1.5351026058197021\n",
            "1.3853956460952759\n",
            "1.117145299911499\n",
            "1.012257695198059\n",
            "1.1124073266983032\n",
            "1.119170904159546\n",
            "test loss 0.953 \n"
          ],
          "name": "stdout"
        }
      ]
    },
    {
      "cell_type": "code",
      "metadata": {
        "id": "ZmDkDGjHC0Sn",
        "colab_type": "code",
        "colab": {
          "base_uri": "https://localhost:8080/",
          "height": 204
        },
        "outputId": "f2715a6e-927c-4b19-edfd-2f758fa5b380"
      },
      "source": [
        "train_epocs(model, epochs=10, lr=0.001, wd=1e-6, unsqueeze=True)"
      ],
      "execution_count": 46,
      "outputs": [
        {
          "output_type": "stream",
          "text": [
            "0.967490553855896\n",
            "0.9407780170440674\n",
            "0.9513012766838074\n",
            "0.9494496583938599\n",
            "0.9390056133270264\n",
            "0.9311290979385376\n",
            "0.9280374050140381\n",
            "0.928578794002533\n",
            "0.9278706908226013\n",
            "0.9206032752990723\n",
            "test loss 0.909 \n"
          ],
          "name": "stdout"
        }
      ]
    },
    {
      "cell_type": "code",
      "metadata": {
        "id": "XRLLnNjoDaBu",
        "colab_type": "code",
        "colab": {
          "base_uri": "https://localhost:8080/",
          "height": 204
        },
        "outputId": "a3bce8db-7e74-4864-976d-91e8ae0688aa"
      },
      "source": [
        "train_epocs(model, epochs=10, lr=0.001, wd=1e-6, unsqueeze=True)"
      ],
      "execution_count": 47,
      "outputs": [
        {
          "output_type": "stream",
          "text": [
            "0.9161325097084045\n",
            "0.9220607876777649\n",
            "0.9086928963661194\n",
            "0.9075403809547424\n",
            "0.9093003273010254\n",
            "0.9032639861106873\n",
            "0.8971983790397644\n",
            "0.8946829438209534\n",
            "0.8934814929962158\n",
            "0.8915942311286926\n",
            "test loss 0.887 \n"
          ],
          "name": "stdout"
        }
      ]
    },
    {
      "cell_type": "code",
      "metadata": {
        "id": "4nBrILqzDm0X",
        "colab_type": "code",
        "colab": {
          "base_uri": "https://localhost:8080/",
          "height": 289
        },
        "outputId": "3e031d61-77b9-4647-cb7b-012530586b34"
      },
      "source": [
        "train_epocs(model, epochs=15, lr=0.001, wd=1e-6, unsqueeze=True)"
      ],
      "execution_count": 48,
      "outputs": [
        {
          "output_type": "stream",
          "text": [
            "0.8873467445373535\n",
            "0.8961063027381897\n",
            "0.8819310069084167\n",
            "0.8794198632240295\n",
            "0.8811234831809998\n",
            "0.8781795501708984\n",
            "0.8729749917984009\n",
            "0.8709647059440613\n",
            "0.8711490035057068\n",
            "0.869096577167511\n",
            "0.865562379360199\n",
            "0.8602393865585327\n",
            "0.8608137965202332\n",
            "0.8590076565742493\n",
            "0.85671067237854\n",
            "test loss 0.859 \n"
          ],
          "name": "stdout"
        }
      ]
    },
    {
      "cell_type": "code",
      "metadata": {
        "id": "couab0cyDtGR",
        "colab_type": "code",
        "colab": {
          "base_uri": "https://localhost:8080/",
          "height": 204
        },
        "outputId": "9d09e2ea-53e5-425e-83ae-388f4d61a737"
      },
      "source": [
        "train_epocs(model, epochs=10, lr=0.001, wd=1e-6, unsqueeze=True)"
      ],
      "execution_count": 49,
      "outputs": [
        {
          "output_type": "stream",
          "text": [
            "0.8516144752502441\n",
            "0.8659402132034302\n",
            "0.8486312627792358\n",
            "0.8486431837081909\n",
            "0.8515843749046326\n",
            "0.8479746580123901\n",
            "0.8413427472114563\n",
            "0.838903546333313\n",
            "0.8398889899253845\n",
            "0.8379942774772644\n",
            "test loss 0.845 \n"
          ],
          "name": "stdout"
        }
      ]
    }
  ]
}